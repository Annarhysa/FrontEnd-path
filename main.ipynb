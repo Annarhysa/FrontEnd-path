{
 "cells": [
  {
   "cell_type": "markdown",
   "metadata": {},
   "source": [
    "##### Program to create two Tensors using Pytorch and display the multiplication of the two as output. "
   ]
  },
  {
   "cell_type": "code",
   "execution_count": 1,
   "metadata": {},
   "outputs": [
    {
     "name": "stdout",
     "output_type": "stream",
     "text": [
      "Tensor 1:\n",
      "tensor([[1, 2],\n",
      "        [3, 4]])\n",
      "\n",
      "Tensor 2:\n",
      "tensor([[5, 6],\n",
      "        [7, 8]])\n",
      "\n",
      "Multiplication Result:\n",
      "tensor([[ 5, 12],\n",
      "        [21, 32]])\n"
     ]
    }
   ],
   "source": [
    "import torch\n",
    "\n",
    "# Create two tensors\n",
    "tensor1 = torch.tensor([[1, 2], [3, 4]])\n",
    "tensor2 = torch.tensor([[5, 6], [7, 8]])\n",
    "\n",
    "# Multiply the tensors\n",
    "result = tensor1 * tensor2\n",
    "\n",
    "# Display the result\n",
    "print(\"Tensor 1:\")\n",
    "print(tensor1)\n",
    "print(\"\\nTensor 2:\")\n",
    "print(tensor2)\n",
    "print(\"\\nMultiplication Result:\")\n",
    "print(result)"
   ]
  },
  {
   "cell_type": "markdown",
   "metadata": {},
   "source": [
    "##### Program to use PyTorch to perform Backward pass and gradient computation."
   ]
  },
  {
   "cell_type": "code",
   "execution_count": 2,
   "metadata": {},
   "outputs": [
    {
     "name": "stdout",
     "output_type": "stream",
     "text": [
      "Gradient of x: tensor(6.)\n"
     ]
    }
   ],
   "source": [
    "import torch\n",
    "\n",
    "# Create a tensor with requires_grad set to True\n",
    "x = torch.tensor(3.0, requires_grad=True)\n",
    "\n",
    "# Define a function y = x^2\n",
    "y = x**2\n",
    "\n",
    "# Perform backward pass\n",
    "y.backward()\n",
    "\n",
    "# Print the gradient of x\n",
    "print(\"Gradient of x:\", x.grad)"
   ]
  },
  {
   "cell_type": "markdown",
   "metadata": {},
   "source": [
    "##### Program to showcase the usage of PyTorch's TensorDataset and DataLoader classes for creating a dataset and dataloader from NumPy arrays. After executing this code, you will have a dataset (my_dataset) and a dataloader (my_dataloader) ready to be used for training or inference. "
   ]
  },
  {
   "cell_type": "code",
   "execution_count": 3,
   "metadata": {},
   "outputs": [
    {
     "name": "stdout",
     "output_type": "stream",
     "text": [
      "Batch Features:\n",
      "tensor([[1., 2., 3.],\n",
      "        [4., 5., 6.]])\n",
      "Batch Labels:\n",
      "tensor([0, 1])\n",
      "--------------------\n",
      "Batch Features:\n",
      "tensor([[7., 8., 9.]])\n",
      "Batch Labels:\n",
      "tensor([0])\n",
      "--------------------\n"
     ]
    }
   ],
   "source": [
    "\n",
    "import numpy as np\n",
    "import torch\n",
    "from torch.utils.data import TensorDataset, DataLoader\n",
    "\n",
    "# Create NumPy arrays for features and labels\n",
    "features = np.array([[1.0, 2.0, 3.0], [4.0, 5.0, 6.0], [7.0, 8.0, 9.0]])\n",
    "labels = np.array([0, 1, 0])\n",
    "\n",
    "# Convert NumPy arrays to PyTorch tensors\n",
    "features_tensor = torch.tensor(features, dtype=torch.float32)\n",
    "labels_tensor = torch.tensor(labels, dtype=torch.int64)\n",
    "\n",
    "# Create a TensorDataset\n",
    "my_dataset = TensorDataset(features_tensor, labels_tensor)\n",
    "\n",
    "# Create a DataLoader\n",
    "batch_size = 2\n",
    "my_dataloader = DataLoader(my_dataset, batch_size=batch_size, shuffle=True)\n",
    "\n",
    "# Print some batches from the dataloader\n",
    "for batch_features, batch_labels in my_dataloader:\n",
    "    print(\"Batch Features:\")\n",
    "    print(batch_features)\n",
    "    print(\"Batch Labels:\")\n",
    "    print(batch_labels)\n",
    "    print(\"-\" * 20)"
   ]
  },
  {
   "cell_type": "markdown",
   "metadata": {},
   "source": [
    "##### Implement a simple neural network using PyTorch to train on a randomly generated dataset. Customize & Update the weights using an optimizer in PyTorch, to improve the model’s accuracy."
   ]
  },
  {
   "cell_type": "code",
   "execution_count": 4,
   "metadata": {},
   "outputs": [
    {
     "name": "stdout",
     "output_type": "stream",
     "text": [
      "Epoch [100/1000], Loss: 0.3328\n",
      "Epoch [200/1000], Loss: 0.2690\n",
      "Epoch [300/1000], Loss: 0.2429\n",
      "Epoch [400/1000], Loss: 0.2281\n",
      "Epoch [500/1000], Loss: 0.2183\n",
      "Epoch [600/1000], Loss: 0.2113\n",
      "Epoch [700/1000], Loss: 0.2060\n",
      "Epoch [800/1000], Loss: 0.2018\n",
      "Epoch [900/1000], Loss: 0.1984\n",
      "Epoch [1000/1000], Loss: 0.1957\n",
      "Predicted Labels: tensor([1., 1., 0., 0., 1., 0., 0., 0., 1., 1.])\n"
     ]
    }
   ],
   "source": [
    "import torch\n",
    "import torch.nn as nn\n",
    "import torch.optim as optim\n",
    "\n",
    "# Generate a random dataset\n",
    "torch.manual_seed(42)\n",
    "features = torch.randn(100, 2)\n",
    "labels = (features[:, 0] * 3 + features[:, 1] * 2 + torch.randn(100)) > 0\n",
    "\n",
    "# Define a simple neural network class\n",
    "class SimpleNN(nn.Module):\n",
    "    def __init__(self):\n",
    "        super(SimpleNN, self).__init__()\n",
    "        self.fc1 = nn.Linear(2, 1)  # Input features: 2, Output features: 1\n",
    "        self.sigmoid = nn.Sigmoid()\n",
    "    \n",
    "    def forward(self, x):\n",
    "        x = self.fc1(x)\n",
    "        x = self.sigmoid(x)\n",
    "        return x\n",
    "\n",
    "# Create an instance of the neural network\n",
    "model = SimpleNN()\n",
    "\n",
    "# Define loss function and optimizer\n",
    "criterion = nn.BCELoss()  # Binary Cross Entropy Loss\n",
    "optimizer = optim.SGD(model.parameters(), lr=0.1)\n",
    "\n",
    "# Training loop\n",
    "epochs = 1000\n",
    "for epoch in range(epochs):\n",
    "    # Forward pass\n",
    "    outputs = model(features)\n",
    "    loss = criterion(outputs.squeeze(), labels.float())\n",
    "    \n",
    "    # Backpropagation and optimization\n",
    "    optimizer.zero_grad()\n",
    "    loss.backward()\n",
    "    optimizer.step()\n",
    "    \n",
    "    if (epoch + 1) % 100 == 0:\n",
    "        print(f'Epoch [{epoch+1}/{epochs}], Loss: {loss.item():.4f}')\n",
    "\n",
    "# Evaluate the model\n",
    "with torch.no_grad():\n",
    "    test_features = torch.randn(10, 2)\n",
    "    predicted_labels = model(test_features).squeeze().round()\n",
    "    print(\"Predicted Labels:\", predicted_labels)"
   ]
  },
  {
   "cell_type": "markdown",
   "metadata": {},
   "source": [
    "##### Program that uses cv2 and rotates an image. The code will create three images: \"tester1.png\", \"tester2.png\", and \"tester3.png”. Each image will be a variation of the original image based on the applied pixel assignment patterns such that the resulting image is rotated at 90°, 180°, 270° respectively."
   ]
  },
  {
   "cell_type": "code",
   "execution_count": 10,
   "metadata": {},
   "outputs": [
    {
     "name": "stdout",
     "output_type": "stream",
     "text": [
      "Images saved successfully.\n"
     ]
    }
   ],
   "source": [
    "import cv2\n",
    "\n",
    "# Load the original image\n",
    "original_image = cv2.imread('image.jpg')\n",
    "\n",
    "# Rotate the image by 90 degrees\n",
    "rotated_90 = cv2.rotate(original_image, cv2.ROTATE_90_CLOCKWISE)\n",
    "\n",
    "# Rotate the image by 180 degrees\n",
    "rotated_180 = cv2.rotate(original_image, cv2.ROTATE_180)\n",
    "\n",
    "# Rotate the image by 270 degrees (90 degrees counterclockwise)\n",
    "rotated_270 = cv2.rotate(original_image, cv2.ROTATE_90_COUNTERCLOCKWISE)\n",
    "\n",
    "# Save the rotated images\n",
    "cv2.imwrite('tester1.png', rotated_90)\n",
    "cv2.imwrite('tester2.png', rotated_180)\n",
    "cv2.imwrite('tester3.png', rotated_270)\n",
    "\n",
    "print(\"Images saved successfully.\")"
   ]
  },
  {
   "cell_type": "code",
   "execution_count": 14,
   "metadata": {},
   "outputs": [
    {
     "data": {
      "text/html": [
       "<img src=\"image.jpg\" style=\"display:inline-block; margin: 0 10px; width: 200px;\"><img src=\"tester1.png\" style=\"display:inline-block; margin: 0 10px; width: 200px;\"><img src=\"tester2.png\" style=\"display:inline-block; margin: 0 10px; width: 200px;\"><img src=\"tester3.png\" style=\"display:inline-block; margin: 0 10px; width: 200px;\">"
      ],
      "text/plain": [
       "<IPython.core.display.HTML object>"
      ]
     },
     "metadata": {},
     "output_type": "display_data"
    }
   ],
   "source": [
    "from IPython.display import Image, display, HTML\n",
    "\n",
    "def display_images_side_by_side(images, width):\n",
    "    img_html = ''\n",
    "    for img_path in images:\n",
    "        img_html += f'<img src=\"{img_path}\" style=\"display:inline-block; margin: 0 10px; width: {width}px;\">'\n",
    "    display(HTML(img_html))\n",
    "\n",
    "\n",
    "images = ['image.jpg', 'tester1.png', 'tester2.png', 'tester3.png']\n",
    "display_images_side_by_side(images, width = 200)\n"
   ]
  }
 ],
 "metadata": {
  "kernelspec": {
   "display_name": "Python 3",
   "language": "python",
   "name": "python3"
  },
  "language_info": {
   "codemirror_mode": {
    "name": "ipython",
    "version": 3
   },
   "file_extension": ".py",
   "mimetype": "text/x-python",
   "name": "python",
   "nbconvert_exporter": "python",
   "pygments_lexer": "ipython3",
   "version": "3.11.2"
  },
  "orig_nbformat": 4
 },
 "nbformat": 4,
 "nbformat_minor": 2
}
